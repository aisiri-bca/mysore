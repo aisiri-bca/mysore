{
  "nbformat": 4,
  "nbformat_minor": 0,
  "metadata": {
    "colab": {
      "provenance": []
    },
    "kernelspec": {
      "name": "python3",
      "display_name": "Python 3"
    },
    "language_info": {
      "name": "python"
    }
  },
  "cells": [
    {
      "cell_type": "code",
      "execution_count": 5,
      "metadata": {
        "colab": {
          "base_uri": "https://localhost:8080/"
        },
        "id": "41BPece5NdRC",
        "outputId": "3c99762f-905a-4bea-f7b2-4717c2866603"
      },
      "outputs": [
        {
          "output_type": "stream",
          "name": "stdout",
          "text": [
            "\n",
            "# 🌱 Smart & Sustainable Energy Solutions for Mysuru – Vision 2030  \n",
            "\n",
            "## Problem Statement\n",
            "Mysuru mainly depends on the Jog Falls Hydel Project, which is seasonal and insufficient for rising demand...\n",
            "\n",
            "## Proposed Solution\n",
            "- Solar Cycle Paths - Generate power and provide shaded cycling routes\n",
            "- Kinetic Pavements - In crowded areas to power lights and signboards\n",
            "- Electrified Bus Routes - Pilot project for wireless charging of buses\n",
            "\n",
            "## Technology Used\n",
            "- Solar panels\n",
            "- Piezoelectric pavements\n",
            "- Wireless power transfer\n",
            "- IoT smart grid monitoring\n",
            "\n",
            "## Prototype Status\n",
            "☑ Idea Stage\n",
            "\n",
            "🎥 Demo Video: [Watch Here](https://youtu.be/j_UT1Cq1dAw)\n",
            "\n",
            "## Future Scope\n",
            "Expand solar paths across ring roads...\n",
            "\n"
          ]
        }
      ],
      "source": [
        "project_description = \"\"\"\n",
        "# 🌱 Smart & Sustainable Energy Solutions for Mysuru – Vision 2030\n",
        "\n",
        "## Problem Statement\n",
        "Mysuru mainly depends on the Jog Falls Hydel Project, which is seasonal and insufficient for rising demand...\n",
        "\n",
        "## Proposed Solution\n",
        "- Solar Cycle Paths - Generate power and provide shaded cycling routes\n",
        "- Kinetic Pavements - In crowded areas to power lights and signboards\n",
        "- Electrified Bus Routes - Pilot project for wireless charging of buses\n",
        "\n",
        "## Technology Used\n",
        "- Solar panels\n",
        "- Piezoelectric pavements\n",
        "- Wireless power transfer\n",
        "- IoT smart grid monitoring\n",
        "\n",
        "## Prototype Status\n",
        "☑ Idea Stage\n",
        "\n",
        "🎥 Demo Video: [Watch Here](https://youtu.be/j_UT1Cq1dAw)\n",
        "\n",
        "## Future Scope\n",
        "Expand solar paths across ring roads...\n",
        "\"\"\"\n",
        "print(project_description)\n",
        "\n"
      ]
    },
    {
      "cell_type": "code",
      "source": [
        "from IPython.display import Markdown\n",
        "\n",
        "Markdown(\"\"\"\n",
        "# 🌱 Smart & Sustainable Energy Solutions for Mysuru – Vision 2030\n",
        "\n",
        "## Problem Statement\n",
        "Mysuru mainly depends on the Jog Falls Hydel Project, which is seasonal and insufficient for rising demand.\n",
        "Free electricity by the government is a temporary relief, but if withdrawn, middle and lower-income families will face difficulties.\n",
        "\n",
        "## Proposed Solution\n",
        "- **Solar Cycle Paths** – Generate power and provide shaded cycling routes.\n",
        "- **Kinetic Pavements** – In crowded areas to power lights and signboards.\n",
        "- **Electrified Bus Routes** – Pilot project for wireless charging of buses.\n",
        "\n",
        "## Technology Used\n",
        "- Solar panels\n",
        "- Piezoelectric pavements\n",
        "- Wireless power transfer\n",
        "- IoT smart grid monitoring\n",
        "\n",
        "## Prototype Status\n",
        "☑ Idea Stage\n",
        "\n",
        "🎥 Demo Video: [Watch Here](https://youtu.be/j_UT1Cq1dAw)\n",
        "\n",
        "## Future Scope\n",
        "Expand solar paths across ring roads, install pavements in busy areas, and electrify major bus routes.\n",
        "Integrate into IoT smart grid for energy stability.\n",
        "Mysuru can become energy self-sufficient and a model green city by 2030.\n",
        "\"\"\")\n",
        "\n"
      ],
      "metadata": {
        "colab": {
          "base_uri": "https://localhost:8080/",
          "height": 573
        },
        "id": "crflac6TNyb3",
        "outputId": "8cd65663-8177-4a09-9c9b-af035eee54f9"
      },
      "execution_count": 6,
      "outputs": [
        {
          "output_type": "execute_result",
          "data": {
            "text/plain": [
              "<IPython.core.display.Markdown object>"
            ],
            "text/markdown": "\n# 🌱 Smart & Sustainable Energy Solutions for Mysuru – Vision 2030  \n\n## Problem Statement\nMysuru mainly depends on the Jog Falls Hydel Project, which is seasonal and insufficient for rising demand.  \nFree electricity by the government is a temporary relief, but if withdrawn, middle and lower-income families will face difficulties.  \n\n## Proposed Solution\n- **Solar Cycle Paths** – Generate power and provide shaded cycling routes.  \n- **Kinetic Pavements** – In crowded areas to power lights and signboards.  \n- **Electrified Bus Routes** – Pilot project for wireless charging of buses.  \n\n## Technology Used\n- Solar panels  \n- Piezoelectric pavements  \n- Wireless power transfer  \n- IoT smart grid monitoring  \n\n## Prototype Status\n☑ Idea Stage  \n\n🎥 Demo Video: [Watch Here](https://youtu.be/j_UT1Cq1dAw)  \n\n## Future Scope\nExpand solar paths across ring roads, install pavements in busy areas, and electrify major bus routes.  \nIntegrate into IoT smart grid for energy stability.  \nMysuru can become energy self-sufficient and a model green city by 2030.  \n"
          },
          "metadata": {},
          "execution_count": 6
        }
      ]
    }
  ]
}